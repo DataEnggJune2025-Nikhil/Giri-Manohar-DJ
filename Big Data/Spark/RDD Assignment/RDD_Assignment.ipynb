{
  "nbformat": 4,
  "nbformat_minor": 0,
  "metadata": {
    "colab": {
      "provenance": []
    },
    "kernelspec": {
      "name": "python3",
      "display_name": "Python 3"
    },
    "language_info": {
      "name": "python"
    }
  },
  "cells": [
    {
      "cell_type": "code",
      "execution_count": 5,
      "metadata": {
        "id": "qCAyfXgLU9WW"
      },
      "outputs": [],
      "source": [
        "import csv\n",
        "# Set up SparkContext\n",
        "from pyspark import SparkConf, SparkContext\n",
        "conf = SparkConf().setAppName(\"AverageFriendsByAge\").setMaster(\"local[*]\")\n",
        "sc = SparkContext(conf=conf)"
      ]
    },
    {
      "cell_type": "code",
      "source": [
        "# Path to file, change it\n",
        "file_path = \"/content/fakefriends.csv\"\n",
        "\n",
        "def parse_line(line):\n",
        "    fields = line.split(\",\")\n",
        "    age = int(fields[2])\n",
        "    num_friends = int(fields[3])\n",
        "    return (age, num_friends)\n",
        "\n",
        "lines = sc.textFile(file_path)\n",
        "age_friends_rdd = lines.map(parse_line)"
      ],
      "metadata": {
        "id": "5M8E5vrLVOM0"
      },
      "execution_count": 2,
      "outputs": []
    },
    {
      "cell_type": "code",
      "source": [
        "# Transform, Reduce\n",
        "totals_by_age = age_friends_rdd.mapValues(lambda x: (x, 1))\n",
        "\n",
        "sum_count_by_age = totals_by_age.reduceByKey(\n",
        "    lambda x, y: (x[0] + y[0], x[1] + y[1]))\n",
        "\n",
        "# Average: (age, (sum, count)) → (age, avg)\n",
        "avg_friends_by_age = sum_count_by_age.mapValues(lambda x: round(x[0] / x[1], 2))\n"
      ],
      "metadata": {
        "id": "IVYB4C9yVX9i"
      },
      "execution_count": 3,
      "outputs": []
    },
    {
      "cell_type": "code",
      "source": [
        "results = avg_friends_by_age.collect()\n",
        "for age, avg_friends in sorted(results):\n",
        "    print(f\"({age}, {avg_friends})\")"
      ],
      "metadata": {
        "colab": {
          "base_uri": "https://localhost:8080/"
        },
        "id": "4adWH8ywVdVB",
        "outputId": "88bf2f69-ff34-441e-f2aa-fc0bed8b286a"
      },
      "execution_count": 4,
      "outputs": [
        {
          "output_type": "stream",
          "name": "stdout",
          "text": [
            "(18, 343.38)\n",
            "(19, 213.27)\n",
            "(20, 165.0)\n",
            "(21, 350.88)\n",
            "(22, 206.43)\n",
            "(23, 246.3)\n",
            "(24, 233.8)\n",
            "(25, 197.45)\n",
            "(26, 242.06)\n",
            "(27, 228.12)\n",
            "(28, 209.1)\n",
            "(29, 215.92)\n",
            "(30, 235.82)\n",
            "(31, 267.25)\n",
            "(32, 207.91)\n",
            "(33, 325.33)\n",
            "(34, 245.5)\n",
            "(35, 211.62)\n",
            "(36, 246.6)\n",
            "(37, 249.33)\n",
            "(38, 193.53)\n",
            "(39, 169.29)\n",
            "(40, 250.82)\n",
            "(41, 268.56)\n",
            "(42, 303.5)\n",
            "(43, 230.57)\n",
            "(44, 282.17)\n",
            "(45, 309.54)\n",
            "(46, 223.69)\n",
            "(47, 233.22)\n",
            "(48, 281.4)\n",
            "(49, 184.67)\n",
            "(50, 254.6)\n",
            "(51, 302.14)\n",
            "(52, 340.64)\n",
            "(53, 222.86)\n",
            "(54, 278.08)\n",
            "(55, 295.54)\n",
            "(56, 306.67)\n",
            "(57, 258.83)\n",
            "(58, 116.55)\n",
            "(59, 220.0)\n",
            "(60, 202.71)\n",
            "(61, 256.22)\n",
            "(62, 220.77)\n",
            "(63, 384.0)\n",
            "(64, 281.33)\n",
            "(65, 298.2)\n",
            "(66, 276.44)\n",
            "(67, 214.62)\n",
            "(68, 269.6)\n",
            "(69, 235.2)\n"
          ]
        }
      ]
    },
    {
      "cell_type": "code",
      "source": [
        "# Export to CSV\n",
        "output_path = \"/content/average_friends_by_age.csv\"\n",
        "\n",
        "with open(output_path, \"w\", newline=\"\") as csvfile:\n",
        "    writer = csv.writer(csvfile)\n",
        "    writer.writerow([\"Age\", \"AverageFriends\"])  # Header\n",
        "    writer.writerows(sorted(results))\n",
        "\n",
        "print(f\"CSV file saved to: {output_path}\")"
      ],
      "metadata": {
        "colab": {
          "base_uri": "https://localhost:8080/"
        },
        "id": "DJV4TynyWM5E",
        "outputId": "43d004db-913b-4cec-c9a2-b2d8236e442c"
      },
      "execution_count": 7,
      "outputs": [
        {
          "output_type": "stream",
          "name": "stdout",
          "text": [
            "CSV file saved to: /content/average_friends_by_age.csv\n"
          ]
        }
      ]
    },
    {
      "cell_type": "code",
      "source": [
        "# Stop SparkContext\n",
        "sc.stop()\n"
      ],
      "metadata": {
        "id": "bQl-vrxoV4n7"
      },
      "execution_count": 8,
      "outputs": []
    }
  ]
}